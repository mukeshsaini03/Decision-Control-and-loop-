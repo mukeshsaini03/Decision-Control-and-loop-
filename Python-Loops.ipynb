{
 "cells": [
  {
   "cell_type": "code",
   "execution_count": 1,
   "metadata": {},
   "outputs": [],
   "source": [
    "##In General statements are executed sequentally.The first statement in a function is executed first\n",
    "##followed by the second and so on. There may be a situtaion when you need to execute a block of code sevral number times.\n",
    "##A loop statement allows us to execute a statement or group of statement multiple times\n",
    "##Python provides following types of loop statement\n",
    "# 1.for loop()--Executes a sequence of statements multiple times and abberviates the code that manages the loop variable\n",
    "#2. while loop()--Repeats a statement or group of statement while a given condition is true. It tests the condition \n",
    "##before exucting the loop bode\n",
    "# 3. nested loops()---You can use one or more loop inside any another while for of do while loop"
   ]
  },
  {
   "cell_type": "code",
   "execution_count": 2,
   "metadata": {},
   "outputs": [],
   "source": [
    "##For loop()---It has the ability to iterate over the items of any sequence, such a list or string\n",
    "##Syntex\n",
    "## for iterating_var in sequence:\n",
    "       ## statement(s)\n",
    "##if sequence contains an expression list, it is evaluated first. Then, the first item in the sequence is assigned\n",
    "##to the itertaing_var. Next, the statement block is executed. Each item in the list is assigned to iterative _var and the \n",
    "##statements block is executed until the entire sequence is exhausted"
   ]
  },
  {
   "cell_type": "code",
   "execution_count": 4,
   "metadata": {},
   "outputs": [
    {
     "name": "stdout",
     "output_type": "stream",
     "text": [
      "Bannana\n",
      "apple\n",
      "mango\n",
      "Good bye!!\n"
     ]
    }
   ],
   "source": [
    "fruites=['Bannana','apple','mango']\n",
    "for fruit in fruites:\n",
    "    print(fruit)\n",
    "print('Good bye!!')"
   ]
  },
  {
   "cell_type": "code",
   "execution_count": 5,
   "metadata": {},
   "outputs": [],
   "source": [
    "##Iterating by Sequence Index\n",
    "#An alternative way of iterating through each item is by index offset into the sequence itself"
   ]
  },
  {
   "cell_type": "code",
   "execution_count": 7,
   "metadata": {},
   "outputs": [
    {
     "name": "stdout",
     "output_type": "stream",
     "text": [
      "Banana\n",
      "apple\n",
      "mango\n"
     ]
    }
   ],
   "source": [
    "#Here, we took the assistance of the len() built-in function, which provides the total number of elements in the tuple \n",
    "#as well as the range() built-in function to give us the actual sequence to iterate over.\n",
    "fruits=['Banana','apple','mango']\n",
    "for i in range(len(fruits)):\n",
    "    print(fruits[i])"
   ]
  },
  {
   "cell_type": "code",
   "execution_count": 8,
   "metadata": {},
   "outputs": [],
   "source": [
    "#Using else Statement with For Loop\n",
    "#Python supports to have an else statement associated with a loop\n",
    "##if the else statement is used with a for loop, the else statement is executed when the loop has exhausted\n",
    "#iterating list\n",
    "#The following example illustrates the combination of an else statement with a for statement that searches \n",
    "#for prime numbers from 10 through 20."
   ]
  },
  {
   "cell_type": "code",
   "execution_count": 9,
   "metadata": {},
   "outputs": [
    {
     "name": "stdout",
     "output_type": "stream",
     "text": [
      "10 equals 2 * 5\n",
      "11 is a prime number\n",
      "12 equals 2 * 6\n",
      "13 is a prime number\n",
      "14 equals 2 * 7\n",
      "15 is a prime number\n",
      "16 equals 2 * 8\n",
      "17 is a prime number\n",
      "18 equals 2 * 9\n",
      "19 is a prime number\n"
     ]
    }
   ],
   "source": [
    "for num in range(10,20):\n",
    "    for i in range(2,num):\n",
    "        if num%i==0:\n",
    "            j=num/i\n",
    "            print('%d equals %d * %d' %(num,i,j))\n",
    "            break\n",
    "        else:\n",
    "            print(num,'is a prime number')\n",
    "            break"
   ]
  },
  {
   "cell_type": "code",
   "execution_count": 10,
   "metadata": {},
   "outputs": [],
   "source": [
    "###Working with while loop\n",
    "##A while loop statement in Python programming language repeatedly executes a target statement\n",
    "##as long as a given condition is true\n",
    "#Syntex\n",
    "#while expression:\n",
    "#statement(s)\n",
    "#Here, statement(s)may be  a single  statement or a block of statement. The condition may be any expression\n",
    "# and true is any non zero value. The loop iterate while the condition is true.\n",
    "##When the condition becomes false, program control passes to the line immedaitly follwoing the loop\n",
    "##Key Point is that while loop is that the loop might not ever run . when the condition is false, it will come\n",
    "##out of the loop and will print the very first statement after the loop has written"
   ]
  },
  {
   "cell_type": "code",
   "execution_count": 11,
   "metadata": {},
   "outputs": [
    {
     "name": "stdout",
     "output_type": "stream",
     "text": [
      "Count is 0\n",
      "Count is 1\n",
      "Count is 2\n",
      "Count is 3\n",
      "Count is 4\n",
      "Count is 5\n",
      "Count is 6\n",
      "Count is 7\n",
      "Count is 8\n",
      "Good bye!!\n"
     ]
    }
   ],
   "source": [
    "count=0\n",
    "while(count<9):\n",
    "    print('Count is', count)\n",
    "    count=count+1\n",
    "print('Good bye!!')"
   ]
  },
  {
   "cell_type": "code",
   "execution_count": 12,
   "metadata": {},
   "outputs": [
    {
     "name": "stdout",
     "output_type": "stream",
     "text": [
      "0 count is less than 5\n",
      "1 count is less than 5\n",
      "2 count is less than 5\n",
      "3 count is less than 5\n",
      "4 count is less than 5\n",
      "5 is not less than 5\n"
     ]
    }
   ],
   "source": [
    "##Using else Statement with While Loop\n",
    "##If the else statement is used with a while loop, the else statement is executed when the condition becomes false.\n",
    "count=0\n",
    "while(count<5):\n",
    "    print(count,'count is less than 5')\n",
    "    count=count+1\n",
    "else:\n",
    "    print(count,'is not less than 5')"
   ]
  },
  {
   "cell_type": "code",
   "execution_count": 1,
   "metadata": {},
   "outputs": [],
   "source": [
    "##Nested Loop\n",
    "#Python Programming langauage allows to use loop inside another loop.\n",
    "#Syntex\n",
    "#for iterating_var in sequence:\n",
    "#  for iterating_var in sequence:\n",
    "#   Statement(s)\n",
    "#   Statement(s)"
   ]
  },
  {
   "cell_type": "code",
   "execution_count": 2,
   "metadata": {},
   "outputs": [],
   "source": [
    "##Loop Control Statement\n",
    "#Loop control statements change execution from its normal sequence.When execution leaves a scope , all automatic\n",
    "##Objects that were created in that scope are destroyed\n"
   ]
  },
  {
   "cell_type": "code",
   "execution_count": 5,
   "metadata": {},
   "outputs": [
    {
     "name": "stdout",
     "output_type": "stream",
     "text": [
      "current letter h\n"
     ]
    }
   ],
   "source": [
    "##Break----Terminate the loop statement and transfer execution to the statement immediatly following loop.\n",
    "##It terminates the current loop and resumes execution at the next statement, just like the traditional break statement in C.\n",
    "for letter in 'Python':\n",
    "    if letter=='h':\n",
    "        break\n",
    "print('current letter',letter)"
   ]
  },
  {
   "cell_type": "code",
   "execution_count": 6,
   "metadata": {},
   "outputs": [
    {
     "name": "stdout",
     "output_type": "stream",
     "text": [
      "Current variable 10\n",
      "Current variable 9\n",
      "Current variable 8\n",
      "Current variable 7\n",
      "Current variable 6\n",
      "Good Bye\n"
     ]
    }
   ],
   "source": [
    "var=10\n",
    "while(var>0):\n",
    "    print('Current variable',var)\n",
    "    var=var-1\n",
    "    if var==5:\n",
    "        break\n",
    "print('Good Bye')"
   ]
  },
  {
   "cell_type": "code",
   "execution_count": 7,
   "metadata": {},
   "outputs": [],
   "source": [
    "##continue statement---it return the control to the beginning of the loop. The continue statement rejects all the\n",
    "#remaining statements in the current iteration of the loop and moves the control back to the top of loop"
   ]
  },
  {
   "cell_type": "code",
   "execution_count": 8,
   "metadata": {},
   "outputs": [
    {
     "name": "stdout",
     "output_type": "stream",
     "text": [
      "P\n",
      "y\n",
      "t\n",
      "o\n",
      "n\n"
     ]
    }
   ],
   "source": [
    "for letter in 'Python':\n",
    "    if letter=='h':\n",
    "        continue\n",
    "    print(letter)"
   ]
  },
  {
   "cell_type": "code",
   "execution_count": null,
   "metadata": {},
   "outputs": [],
   "source": [
    "##Pass statement---The pass statement is a null operation; nothing happens when it executes. \n"
   ]
  }
 ],
 "metadata": {
  "kernelspec": {
   "display_name": "Python 3",
   "language": "python",
   "name": "python3"
  },
  "language_info": {
   "codemirror_mode": {
    "name": "ipython",
    "version": 3
   },
   "file_extension": ".py",
   "mimetype": "text/x-python",
   "name": "python",
   "nbconvert_exporter": "python",
   "pygments_lexer": "ipython3",
   "version": "3.8.3"
  }
 },
 "nbformat": 4,
 "nbformat_minor": 4
}
