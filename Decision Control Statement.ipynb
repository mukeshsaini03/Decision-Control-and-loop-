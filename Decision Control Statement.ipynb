{
 "cells": [
  {
   "cell_type": "code",
   "execution_count": 1,
   "metadata": {},
   "outputs": [],
   "source": [
    "#Decision making is anticipation of conditions occurring while execution of the program \n",
    "#and specifying actions taken according to the conditions.\n",
    "#Python programming language assumes any non-zero and non-null values as TRUE, and if it is either zero or null,\n",
    "#then it is assumed as FALSE value.\n",
    "##We have below Decision Making Statement\n",
    "# 1. if()---An if statement consists of a boolean expression followed by one or more statement\n",
    "#2. if..else() statement---An if statement can be followed by an optional else statement, which executes when \n",
    "##boolean expression is FALSE\n",
    "#3. Nested if statement()---You can use one if or else_if statement inside if or else_if statement"
   ]
  },
  {
   "cell_type": "code",
   "execution_count": 4,
   "metadata": {},
   "outputs": [
    {
     "name": "stdout",
     "output_type": "stream",
     "text": [
      "Value of expression is 100\n",
      "Good bye\n"
     ]
    }
   ],
   "source": [
    "##Single statement suites\n",
    "var=100\n",
    "if(var==100): \n",
    "    print('Value of expression is 100')\n",
    "print(\"Good bye\")"
   ]
  },
  {
   "cell_type": "code",
   "execution_count": 5,
   "metadata": {},
   "outputs": [],
   "source": [
    "##If statement with else\n",
    "##An else statement can be combined with an if statement .\n",
    "#An else statement containes the block of code that executes if the conditional expression in the if statementresolves to 0\n",
    "##or False\n",
    "##The else statement is an optional statement and there could be at most only one else statement following if"
   ]
  },
  {
   "cell_type": "code",
   "execution_count": 10,
   "metadata": {},
   "outputs": [
    {
     "name": "stdout",
     "output_type": "stream",
     "text": [
      "1 - Got a true expression value\n",
      "100\n",
      "2 - Got a false expression value\n",
      "0\n",
      "Good bye!\n"
     ]
    }
   ],
   "source": [
    "var1 = 100\n",
    "if var1:\n",
    "    print (\"1 - Got a true expression value\")\n",
    "    print (var1)\n",
    "else:\n",
    "    print (\"1 - Got a false expression value\")\n",
    "    print (var1)\n",
    "var2 = 0\n",
    "if var2:\n",
    "    print (\"2 - Got a true expression value\")\n",
    "    print (var2)\n",
    "else:\n",
    "    print (\"2 - Got a false expression value\")\n",
    "    print (var2)\n",
    "\n",
    "print (\"Good bye!\")\n"
   ]
  },
  {
   "cell_type": "code",
   "execution_count": 11,
   "metadata": {},
   "outputs": [],
   "source": [
    "##Else_if statement or nested if\n",
    "##elif statement allows you to check multiple expression for TRUE and execute a block \n",
    "##of code as soon as one of the candidation evaluates to TRUE\n",
    "##similarly, to the else, the elif statement is an optional , However, unlike else, for which there can be\n",
    "## atmost one statement, there can be arbitrary number of elif statements  following if"
   ]
  },
  {
   "cell_type": "code",
   "execution_count": 12,
   "metadata": {},
   "outputs": [],
   "source": [
    "###Please note- Core Python does not provide the switch or case statement as in other languages, but we can make use of elif"
   ]
  },
  {
   "cell_type": "code",
   "execution_count": 13,
   "metadata": {},
   "outputs": [
    {
     "name": "stdout",
     "output_type": "stream",
     "text": [
      "3 - Got a true expression value\n",
      "100\n",
      "Good bye!\n"
     ]
    }
   ],
   "source": [
    "var = 100\n",
    "if var == 200:\n",
    "    print (\"1 - Got a true expression value\")\n",
    "    print (var)\n",
    "elif var == 150:\n",
    "    print (\"2 - Got a true expression value\")\n",
    "    print (var)\n",
    "elif var == 100:\n",
    "    print (\"3 - Got a true expression value\")\n",
    "    print (var)\n",
    "else:\n",
    "    print (\"4 - Got a false expression value\")\n",
    "    print (var)\n",
    "\n",
    "print (\"Good bye!\")"
   ]
  },
  {
   "cell_type": "code",
   "execution_count": 14,
   "metadata": {},
   "outputs": [],
   "source": [
    "##Example Write a Python program to find those numbers which are divisible by 7 and multiple of 5, between 1500 and 2700 (both included)"
   ]
  },
  {
   "cell_type": "code",
   "execution_count": 20,
   "metadata": {},
   "outputs": [
    {
     "name": "stdout",
     "output_type": "stream",
     "text": [
      "1505,1540,1575,1610,1645,1680,1715,1750,1785,1820,1855,1890,1925,1960,1995,2030,2065,2100,2135,2170,2205,2240,2275,2310,2345,2380,2415,2450,2485,2520,2555,2590,2625,2660,2695\n"
     ]
    }
   ],
   "source": [
    "n1=[]\n",
    "for x in range(1500,2700):\n",
    "    if(x%7==0) and (x%5==0):\n",
    "        n1.append(str(x))\n",
    "print(','.join(n1))"
   ]
  },
  {
   "cell_type": "code",
   "execution_count": null,
   "metadata": {},
   "outputs": [],
   "source": []
  }
 ],
 "metadata": {
  "kernelspec": {
   "display_name": "Python 3",
   "language": "python",
   "name": "python3"
  },
  "language_info": {
   "codemirror_mode": {
    "name": "ipython",
    "version": 3
   },
   "file_extension": ".py",
   "mimetype": "text/x-python",
   "name": "python",
   "nbconvert_exporter": "python",
   "pygments_lexer": "ipython3",
   "version": "3.8.3"
  }
 },
 "nbformat": 4,
 "nbformat_minor": 4
}
